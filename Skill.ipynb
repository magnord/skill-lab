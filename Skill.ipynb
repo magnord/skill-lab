{
 "cells": [
  {
   "cell_type": "code",
   "execution_count": 14,
   "metadata": {
    "collapsed": false
   },
   "outputs": [],
   "source": [
    "import numpy as np\n",
    "import scipy as sp\n",
    "import pandas as pd\n",
    "import matplotlib\n",
    "import matplotlib.pyplot as plt\n",
    "import seaborn as sns\n",
    "import time\n",
    "import math\n",
    "import trueskill.trueskill as ts \n",
    "%matplotlib inline"
   ]
  },
  {
   "cell_type": "code",
   "execution_count": 15,
   "metadata": {
    "collapsed": false
   },
   "outputs": [
    {
     "data": {
      "text/latex": [
       "$\\mathcal{ N }( 25.000, 8.333^2 )$"
      ],
      "text/plain": [
       "trueskill.trueskill.Rating(mu=25.000, sigma=8.333)"
      ]
     },
     "execution_count": 15,
     "metadata": {},
     "output_type": "execute_result"
    }
   ],
   "source": [
    "# Initialize TrueSkill module\n",
    "ts.backends.choose_backend('scipy')\n",
    "ts.setup(draw_probability=0.01)\n",
    "ts.Rating()"
   ]
  },
  {
   "cell_type": "code",
   "execution_count": 16,
   "metadata": {
    "collapsed": true
   },
   "outputs": [],
   "source": [
    "def create_player_skills(mu, sigma, n):\n",
    "    return np.random.normal(mu, sigma, n)"
   ]
  },
  {
   "cell_type": "code",
   "execution_count": 17,
   "metadata": {
    "collapsed": true
   },
   "outputs": [],
   "source": [
    "def create_initial_player_ratings(n):\n",
    "    return np.array([ts.Rating() for x in range(n)])"
   ]
  },
  {
   "cell_type": "code",
   "execution_count": 18,
   "metadata": {
    "collapsed": false
   },
   "outputs": [],
   "source": [
    "def simulate_round_with_teams(team1, team2, player_skills, ratings):\n",
    "    \n",
    "    # Simple simulation of game round between team 1 and team 2\n",
    "    player_uneveness = 25/6 # 25/3 equals one standard deviation\n",
    "    t1_skill_sum = (player_skills[team1] + np.random.normal(0, player_uneveness, len(team1))).sum()\n",
    "    t2_skill_sum = (player_skills[team2] + np.random.normal(0, player_uneveness, len(team2))).sum()\n",
    "    \n",
    "    outcome = 0\n",
    "    if t1_skill_sum > t2_skill_sum:\n",
    "        outcome = 1\n",
    "    if t1_skill_sum < t2_skill_sum:\n",
    "        outcome = 2\n",
    "    return outcome"
   ]
  },
  {
   "cell_type": "code",
   "execution_count": 19,
   "metadata": {
    "collapsed": true
   },
   "outputs": [],
   "source": [
    "def simulate_round(n_players, team_size, player_skills, ratings, player_round_count):\n",
    "    \n",
    "    # Create to random teams\n",
    "    subset = np.random.choice(n_players, size=team_size*2, replace=False)\n",
    "    team1 = subset[0:team_size//2]\n",
    "    team2 = subset[team_size//2:team_size]\n",
    "    \n",
    "    # Simulate a round between the teams\n",
    "    player_round_count[team1] += 1\n",
    "    player_round_count[team2] += 1\n",
    "    outcome = simulate_round_with_teams(team1, team2, player_skills, ratings)\n",
    "\n",
    "    # Calculate new ratings according to outcome\n",
    "    r1 = ratings[team1].tolist()\n",
    "    r2 = ratings[team2].tolist()\n",
    "    if outcome == 1:\n",
    "        new_ratings = ts.rate([r1, r2], [0, 1]) # team1 won\n",
    "    elif outcome == 2: \n",
    "        new_ratings = ts.rate([r1, r2], [1, 0]) # team2 won\n",
    "    else:\n",
    "        new_ratings = ts.rate([r1, r2], [0, 0]) # draw\n",
    "    \n",
    "    # Update player ratings\n",
    "    for (p, i) in zip(team1, range(len(team1))):\n",
    "        ratings[p] = new_ratings[0][i]\n",
    "    for (p, i) in zip(team2, range(len(team2))):\n",
    "        ratings[p] = new_ratings[1][i]\n",
    "    \n",
    "    return ratings, player_round_count\n"
   ]
  },
  {
   "cell_type": "code",
   "execution_count": 20,
   "metadata": {
    "collapsed": true
   },
   "outputs": [],
   "source": [
    "def estimate_skills(ratings):\n",
    "    return np.array([r.mu for r in ratings])"
   ]
  },
  {
   "cell_type": "code",
   "execution_count": 21,
   "metadata": {
    "collapsed": false
   },
   "outputs": [],
   "source": [
    "def simulate(team_size = 4, player_rounds = 20):\n",
    "    \n",
    "    # Init simulation params\n",
    "    n_players = team_size * 500 \n",
    "    rounds = (n_players // team_size) * player_rounds\n",
    "    ratings = create_initial_player_ratings(n_players)\n",
    "    player_skills = create_player_skills(25, 25/3, n_players)\n",
    "    print('Team size: %d  Players: %d  Simulated global rounds: %d' % (team_size, n_players, rounds))\n",
    "    print('Player')\n",
    "    print('rounds\\tRMSE\\tSigma')\n",
    "    \n",
    "    # Init statistics\n",
    "    player_round_count = np.zeros(n_players)\n",
    "    rmses = []\n",
    "    skill_sigmas = []\n",
    "    current_round_count = -1\n",
    "    \n",
    "    for i in range(rounds):\n",
    "  \n",
    "        # Simulate a round\n",
    "        ratings, player_round_count = simulate_round(n_players, team_size, player_skills, ratings, player_round_count)\n",
    "        \n",
    "        # Sample statistics whenever the mean round count of players change\n",
    "        round_count_mean = int(player_round_count.mean())\n",
    "        if current_round_count != round_count_mean:\n",
    "            current_round_count = round_count_mean\n",
    "            estimated_skills = estimate_skills(ratings) \n",
    "            skill_sd_mean = np.array([r.sigma for r in ratings]).mean()\n",
    "            rmse = math.sqrt(((player_skills - estimated_skills) ** 2).mean())\n",
    "            rmses.append(rmse)\n",
    "            skill_sigmas.append(skill_sd_mean)\n",
    "            if current_round_count % (player_rounds//10) == 0: # Show progress every 10th player round\n",
    "                print(\"%d \\t%1.2f \\t%1.2f\" % (round_count_mean, rmse, skill_sd_mean))\n",
    "            \n",
    "    print()\n",
    "    return (player_skills, ratings, rmses, skill_sigmas) "
   ]
  },
  {
   "cell_type": "code",
   "execution_count": 46,
   "metadata": {
    "collapsed": true
   },
   "outputs": [],
   "source": [
    "def plot_results(players_skills, ratings, rmses, skill_sigmas):\n",
    "    estimated_skills = estimate_skills(ratings) \n",
    "\n",
    "    fig = plt.figure()\n",
    "    fig.set_figwidth(15)\n",
    "    fig.set_figheight(6)\n",
    "    \n",
    "    ax1 = fig.add_subplot(121)\n",
    "    ax1.set_xlabel('Rounds', fontsize=16)\n",
    "    ax1.set_ylim([0,10])\n",
    "    ax1.plot(rmses, label='$\\sqrt{MSE}$')\n",
    "    ax1.plot(skill_sigmas, label='$\\sigma_{TrueSkill}$')\n",
    "    ax1.legend(loc='upper right', fontsize=16)\n",
    "    \n",
    "    ax2 = fig.add_subplot(122)\n",
    "    ax2.set_ylabel('Estimated skill after last round', fontsize=14)\n",
    "    ax2.set_xlabel('Actual skill', fontsize=16)\n",
    "    ax2.scatter(player_skills, estimated_skills, alpha=200/len(player_skills))\n",
    "    ax2.plot([0,60],[0,60], color = '#666666')\n",
    "    \n",
    "    plt.show()"
   ]
  },
  {
   "cell_type": "code",
   "execution_count": 49,
   "metadata": {
    "collapsed": true
   },
   "outputs": [],
   "source": [
    "def plot_summary(final_rmses, final_skill_sigmas):\n",
    "    \n",
    "    fig = plt.figure()\n",
    "    fig.set_figwidth(20)\n",
    "    fig.set_figheight(8)\n",
    "    \n",
    "    ax1 = fig.add_subplot(121)\n",
    "    ax1.grid(True)\n",
    "    ax1.set_ylabel('$\\sqrt{MSE}$', fontsize=20)\n",
    "    ax1.set_xlabel('Rounds', fontsize=16)\n",
    "    ax1.set_ylim([0,10])\n",
    "    \n",
    "    ax2 = fig.add_subplot(122)\n",
    "    ax2.set_ylabel('$\\sigma_{TrueSkill}$', fontsize=20)\n",
    "    ax2.set_xlabel('Rounds', fontsize=16)\n",
    "    ax2.grid(True)\n",
    "    ax2.set_ylim([0,10])\n",
    "    \n",
    "    for team_size in sorted(final_rmses.keys()):\n",
    "        ax1.plot(final_rmses[team_size], label=str(team_size))\n",
    "    for team_size in sorted(final_skill_sigmas.keys()):\n",
    "        ax2.plot(final_skill_sigmas[team_size], label=str(team_size)) \n",
    "    \n",
    "    ax1.legend(loc='upper right')\n",
    "    ax2.legend(loc='upper right')\n",
    "      \n",
    "    plt.show()"
   ]
  },
  {
   "cell_type": "code",
   "execution_count": null,
   "metadata": {
    "collapsed": false,
    "scrolled": false
   },
   "outputs": [
    {
     "name": "stdout",
     "output_type": "stream",
     "text": [
      "Team size: 2  Players: 1000  Simulated global rounds: 100000\n",
      "Player\n",
      "rounds\tRMSE\tSigma\n",
      "0 \t8.51 \t8.33\n",
      "20 \t2.69 \t2.60\n",
      "40 \t1.89 \t1.84\n",
      "60 \t1.57 \t1.52\n",
      "80 \t1.38 \t1.34\n",
      "100 \t1.25 \t1.23\n",
      "120 \t1.14 \t1.15\n",
      "140 \t1.06 \t1.10\n",
      "160 \t1.01 \t1.07\n",
      "180 \t0.95 \t1.04\n",
      "200 \t0.91 \t1.02\n",
      "\n"
     ]
    },
    {
     "data": {
      "image/png": "[encoded data removed]",
      "text/plain": [
       "<matplotlib.figure.Figure at 0x10a8bd0b8>"
      ]
     },
     "metadata": {},
     "output_type": "display_data"
    },
    {
     "name": "stdout",
     "output_type": "stream",
     "text": [
      "Team size: 4  Players: 2000  Simulated global rounds: 100000\n",
      "Player\n",
      "rounds\tRMSE\tSigma\n",
      "0 \t8.17 \t8.33\n",
      "20 \t3.78 \t3.74"
     ]
    }
   ],
   "source": [
    "# Run the simulation\n",
    "final_rmses = {}\n",
    "final_skill_sigmas = {}\n",
    "plt.style.use('ggplot')\n",
    "\n",
    "# Simulate different team sizes\n",
    "for team_size in [2, 4, 8, 16, 32]:\n",
    "    player_skills, ratings, rmses, skill_sigmas = simulate(team_size = team_size, player_rounds = 200)\n",
    "    \n",
    "    # Save simulation results for this team size\n",
    "    final_rmses[team_size] = rmses\n",
    "    final_skill_sigmas[team_size] = skill_sigmas\n",
    "    \n",
    "    # Plot results for this team size\n",
    "    plot_results(player_skills, ratings, rmses, skill_sigmas)\n",
    "\n",
    "# Summary plots containing all team sizes\n",
    "plot_summary(final_rmses, final_skill_sigmas)\n"
   ]
  },
  {
   "cell_type": "code",
   "execution_count": null,
   "metadata": {
    "collapsed": true
   },
   "outputs": [],
   "source": []
  }
 ],
 "metadata": {
  "kernelspec": {
   "display_name": "Python 3",
   "language": "python",
   "name": "python3"
  },
  "language_info": {
   "codemirror_mode": {
    "name": "ipython",
    "version": 3
   },
   "file_extension": ".py",
   "mimetype": "text/x-python",
   "name": "python",
   "nbconvert_exporter": "python",
   "pygments_lexer": "ipython3",
   "version": "3.4.3"
  }
 },
 "nbformat": 4,
 "nbformat_minor": 0
}
